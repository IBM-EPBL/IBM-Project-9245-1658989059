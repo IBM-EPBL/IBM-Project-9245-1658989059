{
  "nbformat": 4,
  "nbformat_minor": 0,
  "metadata": {
    "colab": {
      "provenance": []
    },
    "kernelspec": {
      "name": "python3",
      "display_name": "Python 3"
    },
    "language_info": {
      "name": "python"
    }
  },
  "cells": [
    {
      "cell_type": "code",
      "source": [
        "import pickle\n",
        "pickle.dump(model,open('rainfall.pkl','wb'))\n",
        "praveen=pickle.load(open('rainfall.pkl','rb'))"
      ],
      "metadata": {
        "id": "zjnZtXMCGuY2"
      },
      "execution_count": null,
      "outputs": []
    }
  ]
}